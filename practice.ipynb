{
  "nbformat": 4,
  "nbformat_minor": 0,
  "metadata": {
    "colab": {
      "provenance": [],
      "authorship_tag": "ABX9TyMJFFbTzBtO6AqdFEfmaE2Z",
      "include_colab_link": true
    },
    "kernelspec": {
      "name": "python3",
      "display_name": "Python 3"
    },
    "language_info": {
      "name": "python"
    }
  },
  "cells": [
    {
      "cell_type": "markdown",
      "metadata": {
        "id": "view-in-github",
        "colab_type": "text"
      },
      "source": [
        "<a href=\"https://colab.research.google.com/github/gogongkong/Python_Study/blob/main/practice.ipynb\" target=\"_parent\"><img src=\"https://colab.research.google.com/assets/colab-badge.svg\" alt=\"Open In Colab\"/></a>"
      ]
    },
    {
      "cell_type": "code",
      "execution_count": null,
      "metadata": {
        "id": "3sVvfuymXB1p",
        "outputId": "1b4ef03b-87dc-4144-d677-858b4e536136",
        "colab": {
          "base_uri": "https://localhost:8080/"
        }
      },
      "outputs": [
        {
          "output_type": "stream",
          "name": "stdout",
          "text": [
            "Practice\n",
            "2 x 1 = 2\n",
            "2 x 2 = 4\n",
            "2 x 3 = 6\n",
            "2 x 4 = 8\n",
            "2 x 5 = 10\n",
            "2 x 6 = 12\n",
            "2 x 7 = 14\n",
            "2 x 8 = 16\n",
            "2 x 9 = 18\n"
          ]
        }
      ],
      "source": [
        "print(\"Practice\")\n",
        "import time\n",
        "for i in range(1,10):\n",
        "  print(f'2 x {i} = {2*i}')\n",
        "  time.sleep(1)"
      ]
    },
    {
      "cell_type": "code",
      "source": [
        "print(\"Practice for pythonfor python study on colab\")\n",
        "print(\"10x10 행렬 만들기\")\n",
        "d = []\n",
        "for i in range(11):\n",
        "  d.append([])\n",
        "  for j in range(11):\n",
        "    d[i].append(0)\n",
        "\n",
        "for i in range(11):\n",
        "  for j in range(11):\n",
        "    print(d[i][j], end = ' ')\n",
        "  print()"
      ],
      "metadata": {
        "colab": {
          "base_uri": "https://localhost:8080/"
        },
        "id": "7ZseNascZ17P",
        "outputId": "1635244e-67b6-479b-e5df-fbccf686390d"
      },
      "execution_count": null,
      "outputs": [
        {
          "output_type": "stream",
          "name": "stdout",
          "text": [
            "Practice for pythonfor python study on colab\n",
            "10x10 행렬 만들기\n",
            "0 0 0 0 0 0 0 0 0 0 0 \n",
            "0 0 0 0 0 0 0 0 0 0 0 \n",
            "0 0 0 0 0 0 0 0 0 0 0 \n",
            "0 0 0 0 0 0 0 0 0 0 0 \n",
            "0 0 0 0 0 0 0 0 0 0 0 \n",
            "0 0 0 0 0 0 0 0 0 0 0 \n",
            "0 0 0 0 0 0 0 0 0 0 0 \n",
            "0 0 0 0 0 0 0 0 0 0 0 \n",
            "0 0 0 0 0 0 0 0 0 0 0 \n",
            "0 0 0 0 0 0 0 0 0 0 0 \n",
            "0 0 0 0 0 0 0 0 0 0 0 \n"
          ]
        }
      ]
    },
    {
      "cell_type": "code",
      "source": [
        "d = [[0] *20 for i in range(20)]\n",
        "\n",
        "n = int(input())\n",
        "for i in range(n):\n",
        "    x,y = list(map(int, input().split()))\n",
        "    d[x][y] = 1\n",
        "\n",
        "for i in range(20):\n",
        "  for j in range(20):\n",
        "    print(d[i][j], end = ' ')\n",
        "  print()"
      ],
      "metadata": {
        "id": "T6wTNFO4sblf"
      },
      "execution_count": null,
      "outputs": []
    },
    {
      "cell_type": "code",
      "source": [],
      "metadata": {
        "id": "Pj3pBxjHXLGU"
      },
      "execution_count": null,
      "outputs": []
    }
  ]
}