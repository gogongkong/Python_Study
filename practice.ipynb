{
  "cells": [
    {
      "cell_type": "markdown",
      "metadata": {
        "colab_type": "text",
        "id": "view-in-github"
      },
      "source": [
        "<a href=\"https://colab.research.google.com/github/gogongkong/Python_Study/blob/main/practice.ipynb\" target=\"_parent\"><img src=\"https://colab.research.google.com/assets/colab-badge.svg\" alt=\"Open In Colab\"/></a>"
      ]
    },
    {
      "cell_type": "code",
      "execution_count": null,
      "metadata": {
        "colab": {
          "base_uri": "https://localhost:8080/"
        },
        "id": "3sVvfuymXB1p",
        "outputId": "1b4ef03b-87dc-4144-d677-858b4e536136"
      },
      "outputs": [
        {
          "name": "stdout",
          "output_type": "stream",
          "text": [
            "Practice\n",
            "2 x 1 = 2\n",
            "2 x 2 = 4\n",
            "2 x 3 = 6\n",
            "2 x 4 = 8\n",
            "2 x 5 = 10\n",
            "2 x 6 = 12\n",
            "2 x 7 = 14\n",
            "2 x 8 = 16\n",
            "2 x 9 = 18\n"
          ]
        }
      ],
      "source": [
        "print(\"Practice\")\n",
        "import time\n",
        "for i in range(1,10):\n",
        "  print(f'2 x {i} = {2*i}')\n",
        "  time.sleep(1)"
      ]
    },
    {
      "cell_type": "code",
      "execution_count": null,
      "metadata": {
        "colab": {
          "base_uri": "https://localhost:8080/"
        },
        "id": "7ZseNascZ17P",
        "outputId": "1635244e-67b6-479b-e5df-fbccf686390d"
      },
      "outputs": [
        {
          "name": "stdout",
          "output_type": "stream",
          "text": [
            "Practice for pythonfor python study on colab\n",
            "10x10 행렬 만들기\n",
            "0 0 0 0 0 0 0 0 0 0 0 \n",
            "0 0 0 0 0 0 0 0 0 0 0 \n",
            "0 0 0 0 0 0 0 0 0 0 0 \n",
            "0 0 0 0 0 0 0 0 0 0 0 \n",
            "0 0 0 0 0 0 0 0 0 0 0 \n",
            "0 0 0 0 0 0 0 0 0 0 0 \n",
            "0 0 0 0 0 0 0 0 0 0 0 \n",
            "0 0 0 0 0 0 0 0 0 0 0 \n",
            "0 0 0 0 0 0 0 0 0 0 0 \n",
            "0 0 0 0 0 0 0 0 0 0 0 \n",
            "0 0 0 0 0 0 0 0 0 0 0 \n"
          ]
        }
      ],
      "source": [
        "print(\"Practice for pythonfor python study on colab\")\n",
        "print(\"10x10 행렬 만들기\")\n",
        "d = []\n",
        "for i in range(11):\n",
        "  d.append([])\n",
        "  for j in range(11):\n",
        "    d[i].append(0)\n",
        "\n",
        "for i in range(11):\n",
        "  for j in range(11):\n",
        "    print(d[i][j], end = ' ')\n",
        "  print()"
      ]
    },
    {
      "cell_type": "code",
      "execution_count": null,
      "metadata": {
        "id": "T6wTNFO4sblf"
      },
      "outputs": [],
      "source": [
        "d = [[0] *20 for i in range(20)]\n",
        "\n",
        "n = int(input())\n",
        "for i in range(n):\n",
        "    x,y = list(map(int, input().split()))\n",
        "    d[x][y] = 1\n",
        "\n",
        "for i in range(20):\n",
        "  for j in range(20):\n",
        "    print(d[i][j], end = ' ')\n",
        "  print()"
      ]
    },
    {
      "cell_type": "code",
      "execution_count": null,
      "metadata": {
        "id": "Pj3pBxjHXLGU"
      },
      "outputs": [],
      "source": []
    }
  ],
  "metadata": {
    "colab": {
      "authorship_tag": "ABX9TyMJFFbTzBtO6AqdFEfmaE2Z",
      "include_colab_link": true,
      "provenance": []
    },
    "kernelspec": {
      "display_name": "Python 3",
      "language": "python",
      "name": "python3"
    },
    "language_info": {
      "name": "python",
      "version": "3.11.1 (tags/v3.11.1:a7a450f, Dec  6 2022, 19:58:39) [MSC v.1934 64 bit (AMD64)]"
    },
    "vscode": {
      "interpreter": {
        "hash": "c261aea317cc0286b3b3261fbba9abdec21eaa57589985bb7a274bf54d6cc0a7"
      }
    }
  },
  "nbformat": 4,
  "nbformat_minor": 0
}
