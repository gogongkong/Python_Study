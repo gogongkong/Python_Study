{
  "nbformat": 4,
  "nbformat_minor": 0,
  "metadata": {
    "colab": {
      "provenance": [],
      "authorship_tag": "ABX9TyMFZUU5Kkz0NvRBP4TUWnHA",
      "include_colab_link": true
    },
    "kernelspec": {
      "name": "python3",
      "display_name": "Python 3"
    },
    "language_info": {
      "name": "python"
    }
  },
  "cells": [
    {
      "cell_type": "markdown",
      "metadata": {
        "id": "view-in-github",
        "colab_type": "text"
      },
      "source": [
        "<a href=\"https://colab.research.google.com/github/gogongkong/Python_Study/blob/main/PythonStudy_Colab.ipynb\" target=\"_parent\"><img src=\"https://colab.research.google.com/assets/colab-badge.svg\" alt=\"Open In Colab\"/></a>"
      ]
    },
    {
      "cell_type": "code",
      "execution_count": null,
      "metadata": {
        "id": "NilVXuibxn64",
        "colab": {
          "base_uri": "https://localhost:8080/"
        },
        "outputId": "4c941e9c-588f-46c0-ff75-9c3203a62e4c"
      },
      "outputs": [
        {
          "output_type": "stream",
          "name": "stdout",
          "text": [
            "a1\n",
            "2\n"
          ]
        }
      ],
      "source": [
        "''' 실전문제 왕실의 나이트 '''\n",
        "input_data = input()\n",
        "row = int(input_data[1])\n",
        "colum = int(ord(input_data[0])) - int(ord('a')) +1\n",
        "\n",
        "steps = [(-2, 1), (-1, -2), (1, -2), (2, -1), (2, 1), (1, 2), (-1, 2), (-2, 1)]\n",
        "\n",
        "result = 0\n",
        "for step in steps:\n",
        "  next_row = row + step[0]\n",
        "  next_colum = colum + step[1]\n",
        "  if next_row >= 1 and next_row <= 8 and next_colum >= 1 and next_colum <= 8:\n",
        "    result += 1\n",
        "\n",
        "print(result)"
      ]
    },
    {
      "cell_type": "code",
      "source": [
        "''' 상하좌우 '''\n",
        "\n",
        "#행렬의 크기를 입력받기\n",
        "n = int(input())\n",
        "\n",
        "#이동 계획 받기\n",
        "step = list(map(int, input().split()))\n",
        "#  L , R, U, D  라스트에 저장\n",
        "step = [-1, 1, -1, 1]\n"
      ],
      "metadata": {
        "id": "Jh-JnNNnyxyU"
      },
      "execution_count": null,
      "outputs": []
    }
  ]
}