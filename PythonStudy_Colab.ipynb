{
  "nbformat": 4,
  "nbformat_minor": 0,
  "metadata": {
    "colab": {
      "provenance": [],
      "authorship_tag": "ABX9TyOGr6zZX6lSBL+k2bo+ZJKo",
      "include_colab_link": true
    },
    "kernelspec": {
      "name": "python3",
      "display_name": "Python 3"
    },
    "language_info": {
      "name": "python"
    }
  },
  "cells": [
    {
      "cell_type": "markdown",
      "metadata": {
        "id": "view-in-github",
        "colab_type": "text"
      },
      "source": [
        "<a href=\"https://colab.research.google.com/github/gogongkong/Python_Study/blob/main/PythonStudy_Colab.ipynb\" target=\"_parent\"><img src=\"https://colab.research.google.com/assets/colab-badge.svg\" alt=\"Open In Colab\"/></a>"
      ]
    },
    {
      "cell_type": "code",
      "execution_count": null,
      "metadata": {
        "id": "NilVXuibxn64"
      },
      "outputs": [],
      "source": [
        "''' 실전문제 왕실의 나이트 '''\n",
        "input_data = input()\n",
        "row = int(input_data[1])\n",
        "colum = int(ord(input_data[0])) - int(ord('a')) +1\n",
        "\n",
        "steps = [(-2, 1), (-1, -2), (1, -2), (2, -1), (2, 1), (1, 2), (-1, 2), (-2, 1)]\n",
        "\n",
        "result = 0\n",
        "for step in steps:\n",
        "  next_row = row + step[0]\n",
        "  next_colum = colum + step[1]\n",
        "  if next_row >= 1 and next_row <= 8 and next_colum >= 1 and next_colum <= 8:\n",
        "    result += 1\n",
        "\n",
        "print(result)"
      ]
    },
    {
      "cell_type": "code",
      "source": [
        "''' 상하좌우 '''\n",
        "\n",
        "#행렬의 크기를 입력받기\n",
        "n = int(input())\n",
        "x,y = 1, 1\n",
        "#이동 계획 받기\n",
        "step = input().split()\n",
        "#  L , R, U, D  리스트에 저장\n",
        "direction = ['L', 'R', 'U', 'D']\n",
        "dx = [0, 0, -1, 1]\n",
        "dy = [-1, 1, 0, 0]\n",
        "for steps in step:\n",
        "  for i in range(len(direction)):\n",
        "    if steps == direction[i]:\n",
        "      nx = x + dx[i]\n",
        "      ny = y + dy[i]\n",
        "      if nx < 1 or nx > n or ny < 1 or ny > n:\n",
        "        continue\n",
        "      else:\n",
        "        x = nx\n",
        "        y = ny\n",
        "\n",
        "print(x,y)\n",
        "\n",
        "\n",
        "\n"
      ],
      "metadata": {
        "id": "Jh-JnNNnyxyU"
      },
      "execution_count": null,
      "outputs": []
    },
    {
      "cell_type": "code",
      "source": [
        "''' 게임개발 ''' \n",
        "n, m = map(int, input().split())\n",
        "x, y, direction = map(int, input().split())\n",
        "d = [[0] * m for _ in range(n)]\n",
        "d[x][y] = 1\n",
        "result = 0\n",
        "array = []\n",
        "count = 1\n",
        "turn_time = 0\n",
        "for i in range(n):\n",
        "  array.append(list(map(int, input().split())))\n",
        "#북 동 남 서\n",
        "dx = [-1, 0, 1, 0]\n",
        "dy = [0, 1, 0, -1]\n",
        "\n",
        "def turn_left():\n",
        "  global direction\n",
        "  direction -= 1\n",
        "  if direction == -1:\n",
        "    direction = 3\n",
        "\n",
        "while True:\n",
        "  turn_left()\n",
        "  nx = x + dx[direction]\n",
        "  ny = y + dy[direction]\n",
        "\n",
        "  if d[nx][ny] == 0 and array[nx][ny] == 0:\n",
        "    d[nx][ny] = 1\n",
        "    x, y = nx, ny\n",
        "    turn_time = 0\n",
        "    count += 1\n",
        "    continue\n",
        "  else:\n",
        "    turn_time += 1\n",
        "\n",
        "  if turn_time == 4:\n",
        "    nx = x - dx[direction]\n",
        "    ny = y - dy[direction]\n",
        "    if d[nx][ny] == 0 and array[nx][ny] == 0:\n",
        "      x, y = nx, ny\n",
        "\n",
        "    else:\n",
        "      turn_time = 0\n",
        "      break\n",
        "\n",
        "print(count)\n",
        "      \n"
      ],
      "metadata": {
        "id": "mUBF6aCbWsVH"
      },
      "execution_count": null,
      "outputs": []
    }
  ]
}